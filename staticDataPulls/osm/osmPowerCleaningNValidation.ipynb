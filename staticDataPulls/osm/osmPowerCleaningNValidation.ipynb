{
 "cells": [
  {
   "metadata": {},
   "cell_type": "markdown",
   "source": [
    "### Topological validation\n",
    "\n",
    "1. Each t/d line (power=line; power=minor_line) should terminate at one of:\n",
    "    - power=pole\n",
    "    - power=tower\n",
    "    - power=transformer\n",
    "    - power=substation\n",
    "\n",
    "2. Identify nodes with only one edge and validate\n",
    "\n",
    "3. Coincident geometries (how to handle? ie is there directionality that needs to be considered)\n",
    "\n",
    "4. Lines shouldn't intersect without a node. May form false intersection.\n",
    "\n",
    "5. Substations can probably be collapsed to points?\n",
    "\n",
    "6. Voltage should match connected lines/equipment.\n",
    "    - Must have transformer present to change voltage, e.g., between a line (230kv) and substation (33kv)\n",
    "\n",
    "7. Hierarchy\n",
    "    - Transmission lines should connect substation -> substations\n",
    "    - Distribution feeders should connect substations -> poles (which we will later take onto end users)\n",
    "\n",
    "8. Missing attributes\n",
    "\n",
    "9. Required connections are present\n",
    "    - e.g., transformers should link two diff voltage levels\n",
    "    - Towers/poles not linked to any lines\n",
    "    - there are certainly other required connections to check here\n",
    "\n",
    "10. Plausibility\n",
    "    - Lines that cross 100km with no supporting towers or poles\n",
    "    - Substations or generators far outside built-up/electrified areas may be mis-tagged\n",
    "\n",
    "11. Isolated subnetworks\n",
    "    - Some may be microgrids, most are probably not\n",
    "\n",
    "12. Tag all features as osm original (\"osm\"), osm modified (such as adding attributes), or created here\n"
   ],
   "id": "96815e776e2cf976"
  },
  {
   "metadata": {
    "ExecuteTime": {
     "end_time": "2025-09-22T04:03:30.940097Z",
     "start_time": "2025-09-22T04:03:30.935927Z"
    }
   },
   "cell_type": "code",
   "source": "# topological checks\n",
   "id": "e0baca7fa371c213",
   "outputs": [],
   "execution_count": 1
  }
 ],
 "metadata": {
  "kernelspec": {
   "name": "python3",
   "language": "python",
   "display_name": "Python 3 (ipykernel)"
  }
 },
 "nbformat": 4,
 "nbformat_minor": 5
}
